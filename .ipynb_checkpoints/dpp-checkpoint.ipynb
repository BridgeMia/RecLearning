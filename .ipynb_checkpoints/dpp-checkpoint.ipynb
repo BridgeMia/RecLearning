{
 "cells": [
  {
   "cell_type": "markdown",
   "metadata": {
    "collapsed": true,
    "pycharm": {
     "name": "#%% md\n"
    }
   },
   "source": [
    "# DPP\n",
    "\n",
    "行列式点过程多样性算法，Determinantal Point Process.\n",
    "\n",
    "## 行列式\n",
    "\n",
    "- 二阶行列式\n",
    "  $$\n",
    "  \\left|\\begin{array}{cccc} a_{00} & a_{01} \\\\a_{10} & a_{11} \\\\\\end{array}\\right| = a_{00}a_{11} - a_{01}a_{10}\n",
    "  $$\n",
    "  \n",
    "\n",
    "- 三阶行列式\n",
    "  $$\n",
    "  \\left|\\begin{array}{cccc} a_{00} & a_{01} & a_{02}\\\\a_{10} & a_{11} & a_{12}\\\\a_{20} & a_{21} & a_{22}\\\\\\end{array}\\right| = a_{00}\\left|\\begin{array}{cccc} a_{11} & a_{12} \\\\a_{21} & a_{22} \\\\\\end{array}\\right| - a_{01}\\left|\\begin{array}{cccc} a_{10} & a_{12} \\\\a_{20} & a_{22} \\\\\\end{array}\\right| + a_{02}\\left|\\begin{array}{cccc} a_{10} & a_{11} \\\\a_{20} & a_{21} \\\\\\end{array}\\right|\n",
    "  $$\n",
    "\n",
    "- 通项\n",
    "  $$\n",
    "  \\left|\\begin{array}{cccc} a_{00} & a_{01} & \\cdots & a_{0n}\\\\a_{10} & a_{11} & \\cdots & a_{1n}\\\\\\vdots & \\vdots & \\ddots & \\vdots\\\\a_{n0} & a_{n1} & \\cdots & a_{nn}\\\\\\end{array}\\right| = \\sum_{j_{1},j_2,\\cdots j_{n}}(-1)^ta_{1j_1}a_{2j_2}\\cdots a_{nj_n}\n",
    "  $$\n",
    "  其中$j_{1},j_2,\\cdots j_{n}$表示$1\\to n$ 的一个全排列，$t$为这个全排列的逆序数。\n",
    "\n",
    "- 记法：$det(A)$表示矩阵$A$的行列式\n",
    "\n",
    "- 直观理解\n",
    "\n",
    "  将每行看成一个向量，行列式的大小反映了向量的夹角大小。例如\n",
    "  $$\n",
    "  \\left|\\begin{array}{cccc} \n",
    "  1 & 0 \\\\\n",
    "  1 & 0 \\\\\n",
    "  \\end{array}\\right| = 0\n",
    "  \\\\\n",
    "  \\left|\\begin{array}{cccc} \n",
    "  1 & 0 \\\\\n",
    "  0 & 1 \\\\\n",
    "  \\end{array}\\right| = 1\n",
    "  $$\n",
    "  两个向量的夹角分别为$0^{\\circ}$和$90^{\\circ}$\n",
    "\n",
    "- Cholesky Decomposition (Cholesky分解)\n",
    "\n",
    "  半正定矩阵$A=A^\\top$且$x^\\top Ax>0$可分解成$A = L \\cdot L ^ \\top$，其中$L$是一个下三角矩阵\n",
    "\n",
    "  在`numpy`中为`L = np.linalg.cholesky(A)`\n",
    "\n",
    "## DPP的构造\n",
    "\n",
    "对于离散集合$Z = {I_1, I_2, \\cdots},I_M$，对于$Z$的每一个子集$Y$，构造一个矩阵$L_Y$，其中$L_{ij} = <V_i, V_j>$，其中$V_i$表示带相关性权重的item向量: $V_i = r_i \\cdot v_i$，其中$r_i$为item和query/user的相关性（如CTR)，$v_i$为item的向量。\n",
    "\n",
    "假设采用余弦相似度那么，则有\n",
    "$$\n",
    "det(L) = det(\\left| <V_i, V_j> \\right|) = det(\\left| r_ir_j<v_i, v_j>\\right|) = det(\\left| r_ir_js_{ij}\\right|)\n",
    "$$\n",
    "根据\n",
    "$$\n",
    "L_{1j_1}L_{2j_2}\\cdots L_{nj_n} = \\prod_{i \\in M}s_i \\prod_{i \\in M}r_i^2\n",
    "$$\n",
    "和的公式，可以把$r_ir_j$提取出来\n",
    "$$\n",
    "det(L_Y) = \\prod_{i \\in M}r_i^2 \\cdot det(S_Y)\n",
    "$$\n",
    "$det(L_Y)$就变成了相关性$\\prod_{i \\in M}r_i^2$和多样性$det(S_Y)$的乘积了，至于为什么$det(S_Y)$反映了多样性，我们可以直接看计算："
   ]
  },
  {
   "cell_type": "code",
   "execution_count": 2,
   "metadata": {
    "pycharm": {
     "is_executing": false,
     "name": "#%%\n"
    }
   },
   "outputs": [
    {
     "data": {
      "text/plain": [
       "-0.03472968134622269"
      ]
     },
     "execution_count": 2,
     "metadata": {},
     "output_type": "execute_result"
    }
   ],
   "source": [
    "import numpy as np\n",
    "\n",
    "v1 = np.array([1, 2, 3])\n",
    "v2 = np.array([1, 2, 4])\n",
    "v3 = np.array([1, 3, 3])\n",
    "\n",
    "s12 = np.dot(v1, v2) / (np.linalg.norm(v1) * np.linalg.norm(v2))\n",
    "s13 = np.dot(v1, v2) / (np.linalg.norm(v1) * np.linalg.norm(v3))\n",
    "s23 = np.dot(v1, v2) / (np.linalg.norm(v2) * np.linalg.norm(v3))\n",
    "\n",
    "S1 = np.array([[1, s12, s13], [s12, 1, s23], [s13, s23, 1]])\n",
    "np.linalg.det(S1)"
   ]
  },
  {
   "cell_type": "code",
   "execution_count": 3,
   "metadata": {
    "pycharm": {
     "name": "#%%\n"
    }
   },
   "outputs": [
    {
     "data": {
      "text/plain": [
       "0.2883770807837294"
      ]
     },
     "execution_count": 3,
     "metadata": {},
     "output_type": "execute_result"
    }
   ],
   "source": [
    "v1 = np.array([1, 2, 6])\n",
    "v2 = np.array([9, 2, 4])\n",
    "v3 = np.array([1, 7, 3])\n",
    "\n",
    "s12 = np.dot(v1, v2) / (np.linalg.norm(v1) * np.linalg.norm(v2))\n",
    "s13 = np.dot(v1, v2) / (np.linalg.norm(v1) * np.linalg.norm(v3))\n",
    "s23 = np.dot(v1, v2) / (np.linalg.norm(v2) * np.linalg.norm(v3))\n",
    "\n",
    "S1 = np.array([[1, s12, s13], [s12, 1, s23], [s13, s23, 1]])\n",
    "np.linalg.det(S1)"
   ]
  },
  {
   "cell_type": "code",
   "execution_count": null,
   "metadata": {},
   "outputs": [],
   "source": []
  }
 ],
 "metadata": {
  "kernelspec": {
   "display_name": "Python 3",
   "language": "python",
   "name": "python3"
  },
  "language_info": {
   "codemirror_mode": {
    "name": "ipython",
    "version": 3
   },
   "file_extension": ".py",
   "mimetype": "text/x-python",
   "name": "python",
   "nbconvert_exporter": "python",
   "pygments_lexer": "ipython3",
   "version": "3.6.8"
  },
  "pycharm": {
   "stem_cell": {
    "cell_type": "raw",
    "metadata": {
     "collapsed": false
    },
    "source": []
   }
  }
 },
 "nbformat": 4,
 "nbformat_minor": 1
}
