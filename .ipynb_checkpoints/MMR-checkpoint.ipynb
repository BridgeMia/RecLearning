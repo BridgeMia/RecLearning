{
 "cells": [
  {
   "cell_type": "markdown",
   "metadata": {},
   "source": [
    "# MMR\n",
    "## 定义\n",
    "Maximal Marginal Relevance  \n",
    "$$ MMR = Arg \\ \\underset{D_i \\in R \\backslash S}{max} \\left[ \\lambda(Sim_1(D_i, Q)) - (1-\\lambda)\\underset{D_j \\in S}{max}Sim_2(D_i, D_j)\\right]$$\n",
    "其中，$D_i$表示待查询item，$R$表示候选集，$S$表示已经选择的集合，$\\lambda$用于调节多样性和准确性。 即从未选择的item中选择一个与$Q$最相关同时与已选择的item最不相关的文档。  \n",
    "在推荐系统中，$Q$可以表示用户，在搜索中$Q$可以表示用户输入的查询词。"
   ]
  },
  {
   "cell_type": "code",
   "execution_count": 1,
   "metadata": {
    "pycharm": {
     "is_executing": false,
     "name": "#%%\n"
    }
   },
   "outputs": [],
   "source": [
    "from typing import Dict\n",
    "import numpy as np"
   ]
  },
  {
   "cell_type": "code",
   "execution_count": 2,
   "metadata": {
    "pycharm": {
     "is_executing": false,
     "name": "#%%\n"
    }
   },
   "outputs": [],
   "source": [
    "def maximal_marginal_relevance( \n",
    "    q_d_score: Dict[int, float], \n",
    "    item_sim_mat: np.ndarray, \n",
    "    lambda_c=0.5, \n",
    "    top_k=20):\n",
    "    \"\"\"\n",
    "    :param q_d_score: Q and D score, {item_index: score} for the query/user\n",
    "    :param item_sim_mat: item similarity matrix, x_ij is the i_th and j_th item similarity\n",
    "    :param lambda_c: lambda constant\n",
    "    :param top_k: how much items to collect\n",
    "    \"\"\"\n",
    "    s, r = [], list(q_d_score.keys())\n",
    "    for i in range(max(top_k, len(r))):\n",
    "        scores = np.array([-np.inf for i in range(max(r)+1)])\n",
    "        for item in r:\n",
    "            scores[item] = lambda_c * q_d_score[item] - (1-lambda_c) * max([item_sim_mat[item][x] for x in s] + [0])\n",
    "        sel_item = np.argmax(scores)\n",
    "        s.append(sel_item)\n",
    "        r.remove(sel_item)\n",
    "    return s\n"
   ]
  },
  {
   "cell_type": "markdown",
   "metadata": {
    "pycharm": {
     "name": "#%% md\n"
    }
   },
   "source": [
    "## 数据及计算\n",
    "\n",
    "- item 相似度矩阵  \n",
    "  $$\\left[\\begin{matrix} 1.0 & 0.9 & 0.6 & 0.3\\\\ 0.9 & 1.0 & 0.3 & 0.7 \\\\ 0.6 & 0.3 & 1.0 & 0.8 \\\\ 0.3 & 0.7 & 0.8 & 1.0\\end{matrix} \\right]$$\n",
    "- query-item 分数\n",
    "  $$\\left[\\begin{matrix} 0.6 & 0.5 & 0.8 & 0.9 \\end{matrix} \\right]$$\n",
    "- 计算\n",
    "  - 取`top_k=4, lambda_c=0.5`，即对召回item做一次排序。 \n",
    "  - 初始状态$S \\rightarrow[]$，$R\\rightarrow[0, 1, 2, 3]$，因此只需要选择分数最高的item3，$S \\rightarrow [3]$, $R\\rightarrow[0, 1, 2]$.\n",
    "  - item0, item1, item2的带权重分数$\\lambda Sim_1$依次为0.3, 0.25, 0.4, 带权重的与item3的相似度依次为0.15, 0.35, 0.4，最终分数依次为0.15, -0.1, 0，因此选item0，$S \\rightarrow [0, 3]$, $R\\rightarrow[1, 2]$.\n",
    "  - item1, item2的带权重分数$\\lambda Sim_1$依次为0.25, 0.4，带权重与$S$中最大相似度依次为0.45, 0.4，最终分数依次为-0.2, 0，因此选择item2.\n",
    "  - 最终得到$S \\rightarrow [3, 0, 2, 1]$"
   ]
  },
  {
   "cell_type": "code",
   "execution_count": 3,
   "metadata": {
    "pycharm": {
     "name": "#%%\n"
    }
   },
   "outputs": [],
   "source": [
    "item_sim_mat = np.array(\n",
    "    [[1., 0.9, 0.6, 0.3], \n",
    "     [0.9, 1., 0.3, 0.7], \n",
    "     [0.6, 0.3, 1., 0.8], \n",
    "     [0.3, 0.7, 0.8, 1.]])\n",
    "item_scores = {0: 0.6, 1: 0.5, 2: 0.8, 3: 0.9}"
   ]
  },
  {
   "cell_type": "code",
   "execution_count": 4,
   "metadata": {},
   "outputs": [
    {
     "data": {
      "text/plain": [
       "array([[1. , 0.9, 0.6, 0.3],\n",
       "       [0.9, 1. , 0.3, 0.7],\n",
       "       [0.6, 0.3, 1. , 0.8],\n",
       "       [0.3, 0.7, 0.8, 1. ]])"
      ]
     },
     "execution_count": 4,
     "metadata": {},
     "output_type": "execute_result"
    }
   ],
   "source": [
    "item_sim_mat"
   ]
  },
  {
   "cell_type": "code",
   "execution_count": 5,
   "metadata": {
    "pycharm": {
     "name": "#%%\n"
    }
   },
   "outputs": [
    {
     "name": "stdout",
     "output_type": "stream",
     "text": [
      "[3, 0, 2, 1]\n"
     ]
    }
   ],
   "source": [
    "mmr_result = maximal_marginal_relevance(\n",
    "    q_d_score=item_scores,\n",
    "    item_sim_mat=item_sim_mat,\n",
    "    lambda_c=0.5,\n",
    "    top_k=4\n",
    ")\n",
    "print(mmr_result)"
   ]
  },
  {
   "cell_type": "code",
   "execution_count": null,
   "metadata": {},
   "outputs": [],
   "source": []
  }
 ],
 "metadata": {
  "kernelspec": {
   "display_name": "Python 3",
   "language": "python",
   "name": "python3"
  },
  "language_info": {
   "codemirror_mode": {
    "name": "ipython",
    "version": 3
   },
   "file_extension": ".py",
   "mimetype": "text/x-python",
   "name": "python",
   "nbconvert_exporter": "python",
   "pygments_lexer": "ipython3",
   "version": "3.6.8"
  },
  "pycharm": {
   "stem_cell": {
    "cell_type": "raw",
    "metadata": {
     "collapsed": false
    },
    "source": []
   }
  }
 },
 "nbformat": 4,
 "nbformat_minor": 1
}
