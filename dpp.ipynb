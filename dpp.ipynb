{
 "cells": [
  {
   "cell_type": "markdown",
   "metadata": {
    "collapsed": true,
    "pycharm": {
     "name": "#%% md\n"
    }
   },
   "source": [
    "# DPP\n",
    "\n",
    "行列式点过程多样性算法，Determinantal Point Process.\n",
    "\n",
    "## 行列式\n",
    "\n",
    "- 二阶行列式\n",
    "  $$\n",
    "  \\left|\\begin{array}{cccc} a_{00} & a_{01} \\\\a_{10} & a_{11} \\\\\\end{array}\\right| = a_{00}a_{11} - a_{01}a_{10}\n",
    "  $$\n",
    "  \n",
    "\n",
    "- 三阶行列式\n",
    "  $$\n",
    "  \\left|\\begin{array}{cccc} a_{00} & a_{01} & a_{02}\\\\a_{10} & a_{11} & a_{12}\\\\a_{20} & a_{21} & a_{22}\\\\\\end{array}\\right| = a_{00}\\left|\\begin{array}{cccc} a_{11} & a_{12} \\\\a_{21} & a_{22} \\\\\\end{array}\\right| - a_{01}\\left|\\begin{array}{cccc} a_{10} & a_{12} \\\\a_{20} & a_{22} \\\\\\end{array}\\right| + a_{02}\\left|\\begin{array}{cccc} a_{10} & a_{11} \\\\a_{20} & a_{21} \\\\\\end{array}\\right|\n",
    "  $$\n",
    "\n",
    "- 通项\n",
    "  $$\n",
    "  \\left|\\begin{array}{cccc} a_{00} & a_{01} & \\cdots & a_{0n}\\\\a_{10} & a_{11} & \\cdots & a_{1n}\\\\\\vdots & \\vdots & \\ddots & \\vdots\\\\a_{n0} & a_{n1} & \\cdots & a_{nn}\\\\\\end{array}\\right| = \\sum_{j_{1},j_2,\\cdots j_{n}}(-1)^ta_{1j_1}a_{2j_2}\\cdots a_{nj_n}\n",
    "  $$\n",
    "  其中$j_{1},j_2,\\cdots j_{n}$表示$1\\to n$ 的一个全排列，$t$为这个全排列的逆序数。\n",
    "\n",
    "- 记法：$det(A)$表示矩阵$A$的行列式\n",
    "\n",
    "- 直观理解\n",
    "\n",
    "  将每行看成一个向量，行列式的大小反映了向量的夹角大小。例如:  \n",
    "    $$\n",
    "    \\left|\\begin{matrix}\n",
    "    1 & 0 \\\\\n",
    "    1 & 0 \\\\\n",
    "    \\end{matrix}\\right| = 0\n",
    "    $$\n",
    "    $$\n",
    "    \\left|\\begin{matrix}\n",
    "    1 & 0 \\\\\n",
    "    0 & 1 \\\\\n",
    "    \\end{matrix}\\right| = 1\n",
    "    $$\n",
    "  两个向量的夹角分别为$0^{\\circ}$和$90^{\\circ}$\n",
    "\n",
    "- Cholesky Decomposition (Cholesky分解)\n",
    "\n",
    "  半正定矩阵$A=A^\\top$且$x^\\top Ax>0$可分解成$A = L \\cdot L ^ \\top$，其中$L$是一个下三角矩阵\n",
    "\n",
    "  在`numpy`中为`L = np.linalg.cholesky(A)`\n",
    "\n",
    "## DPP的构造\n",
    "\n",
    "对于离散集合$Z = {I_1, I_2, \\cdots},I_M$，对于$Z$的每一个子集$Y$，构造一个矩阵$L_Y$，其中$L_{ij} = <V_i, V_j>$，其中$V_i$表示带相关性权重的item向量: $V_i = r_i \\cdot v_i$，其中$r_i$为item和query/user的相关性（如CTR)，$v_i$为item的向量。\n",
    "\n",
    "假设采用余弦相似度那么，则有\n",
    "$$\n",
    "det(L) = det(\\left| <V_i, V_j> \\right|) = det(\\left| r_ir_j<v_i, v_j>\\right|) = det(\\left| r_ir_js_{ij}\\right|)\n",
    "$$\n",
    "根据\n",
    "$$\n",
    "L_{1j_1}L_{2j_2}\\cdots L_{nj_n} = \\prod_{i \\in M}s_i \\prod_{i \\in M}r_i^2\n",
    "$$\n",
    "和的公式，可以把$r_ir_j$提取出来\n",
    "$$\n",
    "det(L_Y) = \\prod_{i \\in M}r_i^2 \\cdot det(S_Y)\n",
    "$$\n",
    "$det(L_Y)$就变成了相关性$\\prod_{i \\in M}r_i^2$和多样性$det(S_Y)$的乘积了，至于为什么$det(S_Y)$反映了多样性，我们可以直接看计算："
   ]
  },
  {
   "cell_type": "code",
   "execution_count": 1,
   "metadata": {
    "pycharm": {
     "is_executing": true,
     "name": "#%%\n"
    }
   },
   "outputs": [
    {
     "data": {
      "text/plain": [
       "-0.03472968134622267"
      ]
     },
     "execution_count": 1,
     "metadata": {},
     "output_type": "execute_result"
    }
   ],
   "source": [
    "from typing import Dict\n",
    "import numpy as np\n",
    "\n",
    "v1 = np.array([1, 2, 3])\n",
    "v2 = np.array([1, 2, 4])\n",
    "v3 = np.array([1, 3, 3])\n",
    "\n",
    "s12 = np.dot(v1, v2) / (np.linalg.norm(v1) * np.linalg.norm(v2))\n",
    "s13 = np.dot(v1, v2) / (np.linalg.norm(v1) * np.linalg.norm(v3))\n",
    "s23 = np.dot(v1, v2) / (np.linalg.norm(v2) * np.linalg.norm(v3))\n",
    "\n",
    "S1 = np.array([[1, s12, s13], [s12, 1, s23], [s13, s23, 1]])\n",
    "np.linalg.det(S1)"
   ]
  },
  {
   "cell_type": "code",
   "execution_count": 2,
   "metadata": {
    "pycharm": {
     "name": "#%%\n"
    }
   },
   "outputs": [
    {
     "data": {
      "text/plain": [
       "0.2883770807837294"
      ]
     },
     "execution_count": 2,
     "metadata": {},
     "output_type": "execute_result"
    }
   ],
   "source": [
    "v1 = np.array([1, 2, 6])\n",
    "v2 = np.array([9, 2, 4])\n",
    "v3 = np.array([1, 7, 3])\n",
    "\n",
    "s12 = np.dot(v1, v2) / (np.linalg.norm(v1) * np.linalg.norm(v2))\n",
    "s13 = np.dot(v1, v2) / (np.linalg.norm(v1) * np.linalg.norm(v3))\n",
    "s23 = np.dot(v1, v2) / (np.linalg.norm(v2) * np.linalg.norm(v3))\n",
    "\n",
    "S1 = np.array([[1, s12, s13], [s12, 1, s23], [s13, s23, 1]])\n",
    "np.linalg.det(S1)"
   ]
  },
  {
   "cell_type": "markdown",
   "metadata": {
    "pycharm": {
     "name": "#%% md\n"
    }
   },
   "source": [
    "也可以看推导，在有两个向量的情况下:\n",
    "$$\n",
    "y = det(S) = s_{11}s_{22}-s_{12}s_{21} = 1 - s_{12}^2\n",
    "$$\n",
    "假设有三个向量，\n",
    "$$\n",
    "y = det(S) = 1 + s_{12}s_{23}s_{13}+s_{13}s_{12}s_{23} - s_{23}s_{23} - s_{12}s_{12} - s_{13}s_{13} = 1 + 2abc -a^2-b^2-c^2\n",
    "$$\n",
    "（不会推了，上数值计算）"
   ]
  },
  {
   "cell_type": "code",
   "execution_count": 3,
   "metadata": {
    "pycharm": {
     "name": "#%%\n"
    }
   },
   "outputs": [
    {
     "name": "stdout",
     "output_type": "stream",
     "text": [
      "50\n"
     ]
    }
   ],
   "source": [
    "a = np.linspace(-1, 1, 100)\n",
    "b = np.linspace(-1, 1, 100)\n",
    "c = np.linspace(-1, 1, 100)\n",
    "\n",
    "y = 1 + 2 * a * b * c - np.square(a) - np.square(b) - np.square(c)\n",
    "print(np.argmax(y))"
   ]
  },
  {
   "cell_type": "markdown",
   "metadata": {
    "pycharm": {
     "name": "#%% md\n"
    }
   },
   "source": [
    "## 贪婪算法求近似解\n",
    "\n",
    "优化目标\n",
    "$$\n",
    "log det(L_{Y_g})= \\sum_{i \\in g} log (r_i^2) + log det(S_{Y_g})\n",
    "$$\n",
    "求解过程：每次从候选商品中选取一个item$j$满足\n",
    "$$\n",
    "j = Arg \\ \\underset{D_i \\in R \\backslash Y_g}{max} logdet(Y_{g\\cup \\{i\\}}) - logdet(Y_g)\n",
    "$$\n",
    "即每次取的item要让前后的$logdet$尽可能相差大。\n",
    "\n",
    "对$Y_g$做Cholesky分解：\n",
    "$$\n",
    "Y_g = VV^\\top\n",
    "$$\n",
    "\n",
    "\n",
    "对$Y_{g\\cup \\{i\\}}$做Cholesky分解：\n",
    "$$\n",
    "Y_{g\\cup \\{i\\}} = \\left[ \\begin{matrix} L_{Y_g} & L_{Y_g,i} \\\\ L_{i,Y_g} & L_{ii}\\end{matrix} \\right] = \\left[ \\begin{matrix} V & 0 \\\\ c_i & d_i\\end{matrix} \\right]\\left[ \\begin{matrix} V^\\top & c_i^\\top \\\\ 0 & d_i\\end{matrix} \\right]\n",
    "$$\n",
    "根据矩阵乘法：\n",
    "$$\n",
    "L_{Y_g, i} = Vc_i^\\top\\\\L_{ii} = c_ic_i^\\top + d_i^2 \\rightarrow d_i^2 = L_{ii} - \\|c_i\\|_2^2\n",
    "$$\n",
    "由行列式的性质$det(AB) = det(A)det(B)$和$Y_{g\\cup \\{i\\}}$的Cholesky分解可得：\n",
    "$$\n",
    "det(Y_{g\\cup \\{i\\}}) = det(V)d_idet(V^\\top d_i) = det(VV^\\top)d_i^2 = det(Y_g)d_i^2\n",
    "$$\n",
    "因此优化函数：\n",
    "$$\n",
    "logdet(Y_{g\\cup \\{i\\}}) - logdet(Y_g) = log(det(Y_g)d_i^2) - logdet(Y_g) = log(d_i^2) = log(L_{ii} - \\|c_i\\|_2^2)\n",
    "$$\n",
    "当优化函数$log(\\|c_i\\|_2^2 - L_{ii})$求出了解$j$，则$c_j$和$d_j$也可以求出来，以更新$L_{g \\cup \\{i\\}}$:\n",
    "$$\n",
    "L_{g \\cup \\{i\\}} = \\left[ \\begin{matrix} V & 0 \\\\ c_j & d_j\\end{matrix} \\right]\\left[ \\begin{matrix} V^\\top & c_j^\\top \\\\ 0 & d_j\\end{matrix} \\right]\n",
    "$$\n",
    "在求解新的$c_i$和$d_i$时，分别记为$c'_i$, $d'_i$，则有：\n",
    "$$\n",
    "L_{Y_g,i} = Vc_i^\\top\n",
    "$$\n",
    "$$\n",
    "L_{Y_g\\cup\\{j\\},i} = V'c{'}_{i}^\\top =  \\left[ \\begin{matrix} V & 0 \\\\ c_j & d_j\\end{matrix} \\right]c{'}_{i}^\\top = \\left[\\begin{matrix} L_{Y_g,i \\\\ L_{ji}} \\end{matrix}\\right] \\\\\n",
    "$$\n",
    "$$\n",
    "c{'}_i = \\left[\\begin{matrix}c_i & e_i\\end{matrix}\\right]\n",
    "$$\n",
    "$$\n",
    "e_i= L_{ji}-\\left<c_i,c_j\\right>/d_j\n",
    "$$\n",
    "$$\n",
    "d{'}_i = d_i^2 - e_i^2\n",
    "$$"
   ]
  },
  {
   "cell_type": "code",
   "execution_count": 21,
   "metadata": {
    "pycharm": {
     "name": "#%%\n"
    }
   },
   "outputs": [],
   "source": [
    "class DetPointProcess:\n",
    "    def __init__(self, item_sim_mat: np.ndarray):\n",
    "        self.item_sim_mat = item_sim_mat\n",
    "        self.epsilon = 0.01\n",
    "    def calculate(self, item_scores: Dict[int, float], top_k=10):\n",
    "        \"\"\"\n",
    "\n",
    "        :param item_scores: {item_index: score}\n",
    "        :param top_k:\n",
    "        :return:\n",
    "        \"\"\"\n",
    "        z = list(item_scores.keys())\n",
    "        kernel_mat = np.zeros((len(z), len(z)))\n",
    "        for i in range(len(z)):\n",
    "            for j in range(len(z)):\n",
    "                kernel_mat[i, j] = item_scores[z[i]] * self.item_sim_mat[z[i], z[j]]\n",
    "        # print(kernel_mat)\n",
    "        # re_index_map = {i: z[i] for i in range(len(z))}\n",
    "        c = np.zeros((top_k, len(z)))\n",
    "        d = np.copy(np.diag(kernel_mat))\n",
    "        j = np.argmax(d)\n",
    "        y_g = [j]\n",
    "        re_z = list(range(len(z)))\n",
    "        it = 0\n",
    "        while len(y_g) < top_k:\n",
    "            rest = set(re_z).difference(set(y_g))\n",
    "            for i in rest:\n",
    "                if it == 0:\n",
    "                    ei = kernel_mat[j, i] / np.sqrt(d[j])\n",
    "                else:\n",
    "                    ei = kernel_mat[j, i] / np.dot(c[:it, j], c[:it, i])\n",
    "                c[it, i] = ei\n",
    "                d[i] = d[i] - ei * ei\n",
    "            d[j] = -np.inf\n",
    "            j = np.argmax(d)\n",
    "            # if d[j] < self.epsilon:\n",
    "                # break\n",
    "            y_g.append(j)\n",
    "            it += 1\n",
    "        return [z[i] for i in y_g]"
   ]
  },
  {
   "cell_type": "code",
   "execution_count": 22,
   "metadata": {
    "pycharm": {
     "name": "#%%\n"
    }
   },
   "outputs": [],
   "source": [
    "# 测试\n",
    "item_sim_mat = np.array(\n",
    "    [[1., 0.9, 0.6, 0.3], \n",
    "     [0.9, 1., 0.3, 0.7], \n",
    "     [0.6, 0.3, 1., 0.8], \n",
    "     [0.3, 0.7, 0.8, 1.]])\n",
    "item_scores = {0: 0.6, 1: 0.5, 2: 0.8, 3: 0.9}"
   ]
  },
  {
   "cell_type": "code",
   "execution_count": 23,
   "metadata": {
    "pycharm": {
     "name": "#%%\n"
    }
   },
   "outputs": [
    {
     "name": "stdout",
     "output_type": "stream",
     "text": [
      "[0.519 0.059 0.224  -inf]\n",
      "[       -inf -8.10426531 -2.55377778        -inf]\n",
      "[      -inf -8.1063425       -inf       -inf]\n",
      "[3, 0, 2, 1]\n"
     ]
    }
   ],
   "source": [
    "dpp_obj = DetPointProcess(item_sim_mat)\n",
    "# re-rank\n",
    "export_yg = dpp_obj.calculate(item_scores, 4)\n",
    "print(export_yg)"
   ]
  },
  {
   "cell_type": "markdown",
   "metadata": {
    "pycharm": {
     "name": "#%% md\n"
    }
   },
   "source": [
    "- 这里借用了MMR的数据，可以看出来在这个sample上重排的结果和MMR相同，同样也可能存在局部最优的情况，但由于优化的是\n",
    "$det(L_Y) = \\prod_{i \\in M}r_i^2 \\cdot det(S_Y)$这个乘积，因此不方便直接修改优化目标\n",
    "\n",
    "\n"
   ]
  }
 ],
 "metadata": {
  "kernelspec": {
   "display_name": "Python 3",
   "language": "python",
   "name": "python3"
  },
  "language_info": {
   "codemirror_mode": {
    "name": "ipython",
    "version": 3
   },
   "file_extension": ".py",
   "mimetype": "text/x-python",
   "name": "python",
   "nbconvert_exporter": "python",
   "pygments_lexer": "ipython3",
   "version": "3.6.8"
  }
 },
 "nbformat": 4,
 "nbformat_minor": 1
}